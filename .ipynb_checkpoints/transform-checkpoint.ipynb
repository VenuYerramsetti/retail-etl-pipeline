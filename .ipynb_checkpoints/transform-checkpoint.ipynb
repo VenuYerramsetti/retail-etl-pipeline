{
 "cells": [
  {
   "cell_type": "code",
   "execution_count": null,
   "id": "9bd30228",
   "metadata": {},
   "outputs": [],
   "source": [
    "# scripts/transform.py\n",
    "\n",
    "import pandas as pd\n",
    "\n",
    "def transform_data(df):\n",
    "    \"\"\"Basic transformation: drop NA, convert dates, calc total.\"\"\"\n",
    "    df = df.dropna()\n",
    "    df['Order Date'] = pd.to_datetime(df['Order Date'])\n",
    "    df['Ship Date'] = pd.to_datetime(df['Ship Date'])\n",
    "    df['Profit Margin'] = df['Profit'] / df['Sales']\n",
    "    df['Order Year'] = df['Order Date'].dt.year\n",
    "    return df\n",
    "\n",
    "if __name__ == \"__main__\":\n",
    "    from extract import extract_data\n",
    "    df = extract_data(\"../data/superstore.csv\")\n",
    "    df_clean = transform_data(df)\n",
    "    df_clean.to_csv(\"../output/transformed_data.csv\", index=False)\n",
    "    print(\"[INFO] Data transformed and saved.\")\n"
   ]
  }
 ],
 "metadata": {
  "kernelspec": {
   "display_name": "Python 3 (ipykernel)",
   "language": "python",
   "name": "python3"
  },
  "language_info": {
   "codemirror_mode": {
    "name": "ipython",
    "version": 3
   },
   "file_extension": ".py",
   "mimetype": "text/x-python",
   "name": "python",
   "nbconvert_exporter": "python",
   "pygments_lexer": "ipython3",
   "version": "3.9.7"
  }
 },
 "nbformat": 4,
 "nbformat_minor": 5
}
