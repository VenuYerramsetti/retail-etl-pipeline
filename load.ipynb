{
 "cells": [
  {
   "cell_type": "code",
   "execution_count": null,
   "id": "08397f11",
   "metadata": {},
   "outputs": [],
   "source": [
    "# scripts/load.py\n",
    "\n",
    "import sqlite3\n",
    "import pandas as pd\n",
    "\n",
    "def load_to_sqlite(df, db_path='retail.db'):\n",
    "    conn = sqlite3.connect(db_path)\n",
    "    df.to_sql(\"retail_data\", conn, if_exists=\"replace\", index=False)\n",
    "    conn.close()\n",
    "    print(f\"[INFO] Data loaded into {db_path}\")\n",
    "\n",
    "if __name__ == \"__main__\":\n",
    "    df = pd.read_csv(\"../output/transformed_data.csv\")\n",
    "    load_to_sqlite(df)\n"
   ]
  }
 ],
 "metadata": {
  "kernelspec": {
   "display_name": "Python 3 (ipykernel)",
   "language": "python",
   "name": "python3"
  },
  "language_info": {
   "codemirror_mode": {
    "name": "ipython",
    "version": 3
   },
   "file_extension": ".py",
   "mimetype": "text/x-python",
   "name": "python",
   "nbconvert_exporter": "python",
   "pygments_lexer": "ipython3",
   "version": "3.9.7"
  }
 },
 "nbformat": 4,
 "nbformat_minor": 5
}
