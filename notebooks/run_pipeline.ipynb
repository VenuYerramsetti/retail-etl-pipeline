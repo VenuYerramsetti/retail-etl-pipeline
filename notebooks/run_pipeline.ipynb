{
 "cells": [
  {
   "cell_type": "code",
   "execution_count": null,
   "id": "3d065d17",
   "metadata": {},
   "outputs": [],
   "source": [
    "#!/usr/bin/env python\n",
    "# coding: utf-8\n",
    "\n",
    "# run_pipeline.py — Master ETL pipeline script\n",
    "\n",
    "import os\n",
    "import pandas as pd\n",
    "import sqlite3\n",
    "\n",
    "# Import ETL functions from scripts (make sure __init__.py exists in scripts/)\n",
    "from scripts.extract import extract_data\n",
    "from scripts.transform import transform_data\n",
    "\n",
    "# --- File paths ---\n",
    "RAW_CSV = \"data/superstore.csv\"\n",
    "TRANSFORMED_CSV = \"output/exports/transformed_superstore.csv\"\n",
    "SQLITE_DB = \"output/retail_data.db\"\n",
    "\n",
    "\n",
    "def run_pipeline():\n",
    "    print(\"🚀 Starting ETL pipeline...\")\n",
    "\n",
    "    # --- Extract ---\n",
    "    df_raw = extract_data(RAW_CSV)\n",
    "    if df_raw is None:\n",
    "        print(\"❌ ETL pipeline stopped: raw data not found.\")\n",
    "        return\n",
    "\n",
    "    # --- Transform ---\n",
    "    df_transformed = transform_data(df_raw)\n",
    "\n",
    "    # Ensure export directory exists\n",
    "    os.makedirs(\"output/exports\", exist_ok=True)\n",
    "    df_transformed.to_csv(TRANSFORMED_CSV, index=False)\n",
    "    print(f\"📁 Transformed data saved to: {TRANSFORMED_CSV}\")\n",
    "\n",
    "    # --- Load ---\n",
    "    conn = sqlite3.connect(SQLITE_DB)\n",
    "    df_transformed.to_sql(\"superstore\", conn, if_exists=\"replace\", index=False)\n",
    "    conn.close()\n",
    "    print(f\"✅ Data loaded into database: {SQLITE_DB}\")\n",
    "\n",
    "    print(\"✅ ETL pipeline complete.\")\n",
    "\n",
    "\n",
    "# --- Run as script ---\n",
    "if __name__ == \"__main__\":\n",
    "    run_pipeline()\n"
   ]
  }
 ],
 "metadata": {
  "kernelspec": {
   "display_name": "Python 3 (ipykernel)",
   "language": "python",
   "name": "python3"
  },
  "language_info": {
   "codemirror_mode": {
    "name": "ipython",
    "version": 3
   },
   "file_extension": ".py",
   "mimetype": "text/x-python",
   "name": "python",
   "nbconvert_exporter": "python",
   "pygments_lexer": "ipython3",
   "version": "3.9.7"
  }
 },
 "nbformat": 4,
 "nbformat_minor": 5
}
