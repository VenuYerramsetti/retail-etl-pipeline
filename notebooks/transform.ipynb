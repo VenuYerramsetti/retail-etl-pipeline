{
 "cells": [
  {
   "cell_type": "code",
   "execution_count": null,
   "id": "9103a294",
   "metadata": {},
   "outputs": [],
   "source": [
    "# scripts/transform.py\n",
    "\n",
    "import pandas as pd\n",
    "from extract import extract_data\n",
    "\n",
    "def transform_data(df):\n",
    "    \"\"\"\n",
    "    Performs data transformation:\n",
    "    - Converts date columns\n",
    "    - Calculates profit margin\n",
    "    - Drops rows with missing values\n",
    "    \"\"\"\n",
    "    print(\"🔄 Transforming data...\")\n",
    "\n",
    "    # Convert date columns\n",
    "    df[\"Order Date\"] = pd.to_datetime(df[\"Order Date\"])\n",
    "    df[\"Ship Date\"] = pd.to_datetime(df[\"Ship Date\"])\n",
    "\n",
    "    # Calculate profit margin\n",
    "    df[\"Profit Margin\"] = df[\"Profit\"] / df[\"Sales\"]\n",
    "\n",
    "    # Drop rows with missing values\n",
    "    df.dropna(inplace=True)\n",
    "\n",
    "    print(\"✅ Data transformation complete.\")\n",
    "    return df\n",
    "\n",
    "if __name__ == \"__main__\":\n",
    "    # Step 1: Extract data from raw CSV\n",
    "    df = extract_data(\"data/superstore.csv\")\n",
    "\n",
    "    if df is not None:\n",
    "        # Step 2: Transform the data\n",
    "        transformed_df = transform_data(df)\n",
    "\n",
    "        # Step 3: Save to standardized output location\n",
    "        output_path = \"output/exports/transformed_superstore.csv\"\n",
    "        transformed_df.to_csv(output_path, index=False)\n",
    "        print(f\"📁 Transformed data saved to: {output_path}\")\n"
   ]
  }
 ],
 "metadata": {
  "kernelspec": {
   "display_name": "Python 3 (ipykernel)",
   "language": "python",
   "name": "python3"
  },
  "language_info": {
   "codemirror_mode": {
    "name": "ipython",
    "version": 3
   },
   "file_extension": ".py",
   "mimetype": "text/x-python",
   "name": "python",
   "nbconvert_exporter": "python",
   "pygments_lexer": "ipython3",
   "version": "3.9.7"
  }
 },
 "nbformat": 4,
 "nbformat_minor": 5
}
