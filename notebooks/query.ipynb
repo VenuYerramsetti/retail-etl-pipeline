{
 "cells": [
  {
   "cell_type": "code",
   "execution_count": null,
   "id": "87985a8e",
   "metadata": {},
   "outputs": [],
   "source": [
    "import sqlite3\n",
    "import pandas as pd\n",
    "\n",
    "conn = sqlite3.connect(\"output/retail_data.db\")\n",
    "\n",
    "query = \"SELECT * FROM superstore LIMIT 5;\"\n",
    "df = pd.read_sql(query, conn)\n",
    "\n",
    "print(df)\n",
    "conn.close()\n"
   ]
  }
 ],
 "metadata": {
  "kernelspec": {
   "display_name": "Python 3 (ipykernel)",
   "language": "python",
   "name": "python3"
  },
  "language_info": {
   "codemirror_mode": {
    "name": "ipython",
    "version": 3
   },
   "file_extension": ".py",
   "mimetype": "text/x-python",
   "name": "python",
   "nbconvert_exporter": "python",
   "pygments_lexer": "ipython3",
   "version": "3.9.7"
  }
 },
 "nbformat": 4,
 "nbformat_minor": 5
}
